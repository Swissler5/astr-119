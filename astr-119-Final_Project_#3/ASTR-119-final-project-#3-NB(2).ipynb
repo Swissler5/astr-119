{
 "cells": [
  {
   "cell_type": "markdown",
   "id": "d34e6e0e",
   "metadata": {},
   "source": [
    "### Import the needed modules"
   ]
  },
  {
   "cell_type": "code",
   "execution_count": null,
   "id": "0f4a6e05",
   "metadata": {},
   "outputs": [],
   "source": [
    "import numpy as np\n",
    "import sep"
   ]
  },
  {
   "cell_type": "markdown",
   "id": "0b766f45",
   "metadata": {},
   "source": [
    "### Set up for reading and displaying test images"
   ]
  },
  {
   "cell_type": "code",
   "execution_count": null,
   "id": "58d2889f",
   "metadata": {},
   "outputs": [],
   "source": [
    "import matplotlib.pyplot as plt\n",
    "import astropy\n",
    "from astropy.io import fits\n",
    "from matplotlib import rcParams\n",
    "\n",
    "%matplotlib inline\n",
    "\n",
    "rcParams[\"figure.figsize\"] = [10.0, 8.0]"
   ]
  },
  {
   "cell_type": "markdown",
   "id": "cd093d84",
   "metadata": {},
   "source": [
    "### Image is read into standard 2-d numpy array"
   ]
  },
  {
   "cell_type": "code",
   "execution_count": null,
   "id": "ef81fe3c",
   "metadata": {},
   "outputs": [],
   "source": [
    "#https://docs.astropy.org/en/stable/io/fits/index.html\n",
    "HDU = fits.open(\"Documents/Python Code-ASTR/f105_band_image.fits\")\n",
    "data = HDU[0].data"
   ]
  },
  {
   "cell_type": "markdown",
   "id": "b1df9da8",
   "metadata": {},
   "source": [
    "### Show the image"
   ]
  },
  {
   "cell_type": "code",
   "execution_count": null,
   "id": "a169e520",
   "metadata": {},
   "outputs": [],
   "source": [
    "m = np.mean(data)\n",
    "s = np.std(data)\n",
    "plt.imshow(data, interpolation = \"nearest\", cmap = \"gray\", vmin = m - s, vmax = m + s, origin = \"lower\")\n",
    "plt.colorbar();"
   ]
  },
  {
   "cell_type": "markdown",
   "id": "797eb788",
   "metadata": {},
   "source": [
    "### Measure the spatially varying of the image backround"
   ]
  },
  {
   "cell_type": "code",
   "execution_count": null,
   "id": "755ebf8f",
   "metadata": {},
   "outputs": [],
   "source": [
    "data = data.byteswap().newbyteorder()\n",
    "bkgnd = sep.Background(data)"
   ]
  },
  {
   "cell_type": "markdown",
   "id": "a0a363e2",
   "metadata": {},
   "source": [
    "### Get the global mean and noise of the image background"
   ]
  },
  {
   "cell_type": "code",
   "execution_count": null,
   "id": "e0b2243f",
   "metadata": {},
   "outputs": [],
   "source": [
    "print(bkgnd.globalback)\n",
    "print(bkgnd.globalrms)"
   ]
  },
  {
   "cell_type": "markdown",
   "id": "63ca453c",
   "metadata": {},
   "source": [
    "### Evaluate the  backround as a 2-d Array"
   ]
  },
  {
   "cell_type": "code",
   "execution_count": null,
   "id": "041fb2e5",
   "metadata": {},
   "outputs": [],
   "source": [
    "bkgnd_image = bkgnd.back()"
   ]
  },
  {
   "cell_type": "markdown",
   "id": "ae27ac10",
   "metadata": {},
   "source": [
    "### Show the image backround"
   ]
  },
  {
   "cell_type": "code",
   "execution_count": null,
   "id": "4cc74dea",
   "metadata": {},
   "outputs": [],
   "source": [
    "plt.imshow(bkgnd_image, interpolation = \"nearest\", cmap = \"gray\", origin = \"lower\")\n",
    "plt.colorbar();"
   ]
  },
  {
   "cell_type": "markdown",
   "id": "2afb41f6",
   "metadata": {},
   "source": [
    "### Evaluate the backround noise as a 2-d Array"
   ]
  },
  {
   "cell_type": "code",
   "execution_count": null,
   "id": "8511af4a",
   "metadata": {},
   "outputs": [],
   "source": [
    "bkgnd_rms = bkgnd.rms()"
   ]
  },
  {
   "cell_type": "markdown",
   "id": "cc537150",
   "metadata": {},
   "source": [
    "### Display this backround noise and save to a pdf"
   ]
  },
  {
   "cell_type": "code",
   "execution_count": null,
   "id": "55da91f7",
   "metadata": {},
   "outputs": [],
   "source": [
    "plt.imshow(bkgnd_rms, interpolation = \"nearest\", cmap = \"gray\", origin = \"lower\")\n",
    "plt.colorbar();"
   ]
  },
  {
   "cell_type": "markdown",
   "id": "11f29bb5",
   "metadata": {},
   "source": [
    "### subtract the backround from the original data"
   ]
  },
  {
   "cell_type": "code",
   "execution_count": null,
   "id": "5cc07bd1",
   "metadata": {},
   "outputs": [],
   "source": [
    "data_sub = data - bkgnd"
   ]
  },
  {
   "cell_type": "markdown",
   "id": "573903ce",
   "metadata": {},
   "source": [
    "### Create the objects"
   ]
  },
  {
   "cell_type": "code",
   "execution_count": null,
   "id": "21d7e3c2",
   "metadata": {},
   "outputs": [],
   "source": [
    "objs = sep.extract(data_sub, 1.5, err=bkgnd.globalrms)"
   ]
  },
  {
   "cell_type": "markdown",
   "id": "1666cabf",
   "metadata": {},
   "source": [
    "### Determine how many objects are present"
   ]
  },
  {
   "cell_type": "code",
   "execution_count": null,
   "id": "a4402520",
   "metadata": {},
   "outputs": [],
   "source": [
    "len(objs)"
   ]
  },
  {
   "cell_type": "markdown",
   "id": "848b4666",
   "metadata": {},
   "source": [
    "### Plot the original minus brackround, an ellipse around each detected object"
   ]
  },
  {
   "cell_type": "code",
   "execution_count": null,
   "id": "61bb069d",
   "metadata": {},
   "outputs": [],
   "source": [
    "from matplotlib.patches import Ellipse\n",
    "\n",
    "\n",
    "fig, ax = plt.subplots()\n",
    "m = np.mean(data_sub)\n",
    "s = np.std(data_sub)\n",
    "im = ax.imshow(data_sub, interpolation = \"nearest\", cmap = \"gray\",\n",
    "               vmin = m - s, vmax = m + s, origin = \"lower\")\n",
    "\n",
    "for i in range(len(objs)):\n",
    "    e = Ellipse(xy = (objs[\"x\"][i], objs[\"y\"][i]),\n",
    "                width = 6*objs[\"a\"][i],\n",
    "                height = 6*objs[\"b\"][i],\n",
    "                angle = objs[\"theta\"][i] * 180.0 / np.pi)\n",
    "    e.set_facecolor(\"none\")\n",
    "    e.set_edgecolor(\"red\")\n",
    "    ax.add_artist(e)"
   ]
  },
  {
   "cell_type": "code",
   "execution_count": null,
   "id": "ecd85ba0",
   "metadata": {},
   "outputs": [],
   "source": [
    "objs.dtype.names"
   ]
  },
  {
   "cell_type": "markdown",
   "id": "8757d799",
   "metadata": {},
   "source": [
    "### Calculate the aperture photometry at the object locations"
   ]
  },
  {
   "cell_type": "code",
   "execution_count": null,
   "id": "d4107fcd",
   "metadata": {},
   "outputs": [],
   "source": [
    "flux, fluxerr, flag = sep.sum_circle(data_sub, objs[\"x\"], objs[\"y\"],\n",
    "                                     3.0, err = bkgnd.globalrms, gain = 1.0)"
   ]
  },
  {
   "cell_type": "markdown",
   "id": "49e0cded",
   "metadata": {},
   "source": [
    "### Show the results of the first 10 objects"
   ]
  },
  {
   "cell_type": "code",
   "execution_count": null,
   "id": "b83f432f",
   "metadata": {},
   "outputs": [],
   "source": [
    "for i in range(10):\n",
    "    print(\"Object {:d}: flux = {:f} +/- {:f}\".format(i, flux[i], fluxerr[i]))"
   ]
  },
  {
   "cell_type": "markdown",
   "id": "460de7ca",
   "metadata": {},
   "source": [
    "### Create a histogram of the fluxes"
   ]
  },
  {
   "cell_type": "code",
   "execution_count": null,
   "id": "3f101cd4",
   "metadata": {
    "scrolled": false
   },
   "outputs": [],
   "source": [
    "x = [0.031282, 0.031018, -0.024388, 0.001947, 0.012457, -0.011228, 0.029368, -0.009126, 0.048023, 0.027840]\n",
    "plt.hist(x, 10)\n",
    "plt.show()"
   ]
  }
 ],
 "metadata": {
  "kernelspec": {
   "display_name": "Python 3 (ipykernel)",
   "language": "python",
   "name": "python3"
  },
  "language_info": {
   "codemirror_mode": {
    "name": "ipython",
    "version": 3
   },
   "file_extension": ".py",
   "mimetype": "text/x-python",
   "name": "python",
   "nbconvert_exporter": "python",
   "pygments_lexer": "ipython3",
   "version": "3.9.7"
  }
 },
 "nbformat": 4,
 "nbformat_minor": 5
}
