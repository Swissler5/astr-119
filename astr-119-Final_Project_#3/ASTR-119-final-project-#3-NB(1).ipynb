{
 "cells": [
  {
   "cell_type": "markdown",
   "id": "c995a944",
   "metadata": {},
   "source": [
    "### Import the needed modules"
   ]
  },
  {
   "cell_type": "code",
   "execution_count": null,
   "id": "c6021e2a",
   "metadata": {},
   "outputs": [],
   "source": [
    "import numpy as np\n",
    "import sep"
   ]
  },
  {
   "cell_type": "markdown",
   "id": "56cadb40",
   "metadata": {},
   "source": [
    "### Set up for reading and displaying test images"
   ]
  },
  {
   "cell_type": "code",
   "execution_count": null,
   "id": "992206c2",
   "metadata": {},
   "outputs": [],
   "source": [
    "import matplotlib.pyplot as plt\n",
    "import astropy\n",
    "from astropy.io import fits\n",
    "from matplotlib import rcParams\n",
    "\n",
    "%matplotlib inline\n",
    "\n",
    "rcParams[\"figure.figsize\"] = [10.0, 8.0]"
   ]
  },
  {
   "cell_type": "markdown",
   "id": "6ebb2bcf",
   "metadata": {},
   "source": [
    "### Image is read into standard 2-d numpy array"
   ]
  },
  {
   "cell_type": "code",
   "execution_count": null,
   "id": "632df776",
   "metadata": {
    "scrolled": true
   },
   "outputs": [],
   "source": [
    "#https://docs.astropy.org/en/stable/io/fits/index.html\n",
    "HDU = fits.open(\"Documents/Python Code-ASTR/image.fits\")\n",
    "data = HDU[0].data"
   ]
  },
  {
   "cell_type": "markdown",
   "id": "be1c2dd5",
   "metadata": {},
   "source": [
    "### Show the image and save it to a pdf"
   ]
  },
  {
   "cell_type": "code",
   "execution_count": null,
   "id": "2de4aa2e",
   "metadata": {
    "scrolled": true
   },
   "outputs": [],
   "source": [
    "m = np.mean(data)\n",
    "s = np.std(data)\n",
    "plt.imshow(data, interpolation = \"nearest\", cmap = \"gray\", vmin = m - s, vmax = m + s, origin = \"lower\")\n",
    "plt.colorbar();\n",
    "plt.savefig(\"output1.pdf\", dpi = 600, bbox_inches = \"tight\")"
   ]
  },
  {
   "cell_type": "markdown",
   "id": "ba3faffd",
   "metadata": {},
   "source": [
    "### Measure the spatially varying of the image backround"
   ]
  },
  {
   "cell_type": "code",
   "execution_count": null,
   "id": "04466ab2",
   "metadata": {},
   "outputs": [],
   "source": [
    "bkgnd = sep.Background(data)"
   ]
  },
  {
   "cell_type": "markdown",
   "id": "92e751e2",
   "metadata": {},
   "source": [
    "### Get the global mean and noise of the image background"
   ]
  },
  {
   "cell_type": "code",
   "execution_count": null,
   "id": "33794fe1",
   "metadata": {},
   "outputs": [],
   "source": [
    "print(bkgnd.globalback)\n",
    "print(bkgnd.globalrms)"
   ]
  },
  {
   "cell_type": "markdown",
   "id": "22a6dbdd",
   "metadata": {},
   "source": [
    "### Evaluate the  backround as a 2-d Array"
   ]
  },
  {
   "cell_type": "code",
   "execution_count": null,
   "id": "50cc8e19",
   "metadata": {},
   "outputs": [],
   "source": [
    "bkgnd_image = bkgnd.back()"
   ]
  },
  {
   "cell_type": "markdown",
   "id": "3a373698",
   "metadata": {},
   "source": [
    "### Show the image backround and save it as a pdf"
   ]
  },
  {
   "cell_type": "code",
   "execution_count": null,
   "id": "f985010d",
   "metadata": {},
   "outputs": [],
   "source": [
    "plt.imshow(bkgnd_image, interpolation = \"nearest\", cmap = \"gray\", origin = \"lower\")\n",
    "plt.colorbar();\n",
    "plt.savefig(\"output2.pdf\", dpi = 600, bbox_inches = \"tight\")"
   ]
  },
  {
   "cell_type": "markdown",
   "id": "0bc0f41c",
   "metadata": {},
   "source": [
    "### Evaluate the backround noise as a 2-d Array"
   ]
  },
  {
   "cell_type": "code",
   "execution_count": null,
   "id": "742ecad1",
   "metadata": {},
   "outputs": [],
   "source": [
    "bkgnd_rms = bkgnd.rms()"
   ]
  },
  {
   "cell_type": "markdown",
   "id": "57d93c5a",
   "metadata": {},
   "source": [
    "### Display this backround noise and save to a pdf"
   ]
  },
  {
   "cell_type": "code",
   "execution_count": null,
   "id": "8f5bc3a0",
   "metadata": {
    "scrolled": true
   },
   "outputs": [],
   "source": [
    "plt.imshow(bkgnd_rms, interpolation = \"nearest\", cmap = \"gray\", origin = \"lower\")\n",
    "plt.colorbar();\n",
    "plt.savefig(\"output3.pdf\", dpi = 600, bbox_inches = \"tight\")"
   ]
  },
  {
   "cell_type": "markdown",
   "id": "708576cc",
   "metadata": {},
   "source": [
    "### subtract the backround from the original data"
   ]
  },
  {
   "cell_type": "code",
   "execution_count": null,
   "id": "6ff96c48",
   "metadata": {},
   "outputs": [],
   "source": [
    "data_sub = data - bkgnd"
   ]
  },
  {
   "cell_type": "markdown",
   "id": "5299e2ed",
   "metadata": {},
   "source": [
    "### Create the objectes"
   ]
  },
  {
   "cell_type": "code",
   "execution_count": null,
   "id": "e6f9c240",
   "metadata": {},
   "outputs": [],
   "source": [
    "objs = sep.extract(data_sub, 1.5, err=bkgnd.globalrms)"
   ]
  },
  {
   "cell_type": "markdown",
   "id": "d7d9b6e4",
   "metadata": {},
   "source": [
    "### Determine how many objects are present"
   ]
  },
  {
   "cell_type": "code",
   "execution_count": null,
   "id": "a92404e3",
   "metadata": {},
   "outputs": [],
   "source": [
    "len(objs)"
   ]
  },
  {
   "cell_type": "markdown",
   "id": "1aa4d2e5",
   "metadata": {},
   "source": [
    "### Plot the original minus brackround, an ellipse around each detected object and save to a pdf"
   ]
  },
  {
   "cell_type": "code",
   "execution_count": null,
   "id": "6b0612d8",
   "metadata": {
    "scrolled": true
   },
   "outputs": [],
   "source": [
    "from matplotlib.patches import Ellipse\n",
    "\n",
    "\n",
    "fig, ax = plt.subplots()\n",
    "m = np.mean(data_sub)\n",
    "s = np.std(data_sub)\n",
    "im = ax.imshow(data_sub, interpolation = \"nearest\", cmap = \"gray\",\n",
    "               vmin = m - s, vmax = m + s, origin = \"lower\")\n",
    "\n",
    "\n",
    "for i in range(len(objs)):\n",
    "    e = Ellipse(xy = (objs[\"x\"][i], objs[\"y\"][i]),\n",
    "                width = 6*objs[\"a\"][i],\n",
    "                height = 6*objs[\"b\"][i],\n",
    "                angle = objs[\"theta\"][i] * 180.0 / np.pi)\n",
    "    e.set_facecolor(\"none\")\n",
    "    e.set_edgecolor(\"red\")\n",
    "    ax.add_artist(e)\n",
    "\n",
    "\n",
    "plt.savefig(\"output4.pdf\", dpi = 600, bbox_inches = \"tight\")"
   ]
  },
  {
   "cell_type": "code",
   "execution_count": null,
   "id": "a9fceef9",
   "metadata": {
    "scrolled": true
   },
   "outputs": [],
   "source": [
    "objs.dtype.names"
   ]
  },
  {
   "cell_type": "markdown",
   "id": "83847898",
   "metadata": {},
   "source": [
    "### Calculate the aperture photometry at the object locations"
   ]
  },
  {
   "cell_type": "code",
   "execution_count": null,
   "id": "9d2a2fb6",
   "metadata": {},
   "outputs": [],
   "source": [
    "flux, fluxerr, flag = sep.sum_circle(data_sub, objs[\"x\"], objs[\"y\"],\n",
    "                                     3.0, err = bkgnd.globalrms, gain = 1.0)"
   ]
  },
  {
   "cell_type": "markdown",
   "id": "b71936cf",
   "metadata": {},
   "source": [
    "### Show the results of the first 10 objects"
   ]
  },
  {
   "cell_type": "code",
   "execution_count": null,
   "id": "60576acf",
   "metadata": {},
   "outputs": [],
   "source": [
    "for i in range(10):\n",
    "    print(\"Object {:d}: flux = {:f} +/- {:f}\".format(i, flux[i], fluxerr[i]))"
   ]
  }
 ],
 "metadata": {
  "kernelspec": {
   "display_name": "Python 3 (ipykernel)",
   "language": "python",
   "name": "python3"
  },
  "language_info": {
   "codemirror_mode": {
    "name": "ipython",
    "version": 3
   },
   "file_extension": ".py",
   "mimetype": "text/x-python",
   "name": "python",
   "nbconvert_exporter": "python",
   "pygments_lexer": "ipython3",
   "version": "3.9.7"
  }
 },
 "nbformat": 4,
 "nbformat_minor": 5
}
