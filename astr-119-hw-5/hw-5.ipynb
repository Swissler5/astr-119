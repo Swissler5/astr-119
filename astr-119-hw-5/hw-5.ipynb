{
 "cells": [
  {
   "cell_type": "code",
   "execution_count": null,
   "id": "4d883cf5",
   "metadata": {},
   "outputs": [],
   "source": [
    "%matplotlib inline\n",
    "import numpy as np\n",
    "import matplotlib.pyplot as plt"
   ]
  },
  {
   "cell_type": "code",
   "execution_count": null,
   "id": "87dc05b3",
   "metadata": {},
   "outputs": [],
   "source": [
    "def func(x):\n",
    "    a = -2\n",
    "    b = 10\n",
    "    return (np.e**(a*x))*np.cos(b*x)"
   ]
  },
  {
   "cell_type": "code",
   "execution_count": null,
   "id": "e5567f28",
   "metadata": {},
   "outputs": [],
   "source": [
    "def func_integral(x):\n",
    "    return ((5*np.sin(10*x))-(np.cos(10*x)))/((np.e**(2*x))*52)"
   ]
  },
  {
   "cell_type": "code",
   "execution_count": null,
   "id": "421b761e",
   "metadata": {},
   "outputs": [],
   "source": [
    "def trapezoid_core(f,x,h):\n",
    "    return 0.5*h*(f(x+h) + f(x))"
   ]
  },
  {
   "cell_type": "code",
   "execution_count": null,
   "id": "6b6df57e",
   "metadata": {},
   "outputs": [],
   "source": [
    "def trapezoid_method(f,a,b,N):\n",
    "    #f is the function to integrate\n",
    "    #a is lower limit\n",
    "    #b is upper limit\n",
    "    #N is the number of intervals\n",
    "    \n",
    "    #define x values to perform\n",
    "    x = np.linspace(a,b,N)\n",
    "    h = x[1] - x[0]\n",
    "    #define value of integral\n",
    "    Fint = 0.0\n",
    "    \n",
    "    #perform integral\n",
    "    for i in range(0, len(x)-1,1):\n",
    "        Fint += trapezoid_core(f,x[i],h)\n",
    "    return Fint"
   ]
  },
  {
   "cell_type": "code",
   "execution_count": null,
   "id": "cc226347",
   "metadata": {},
   "outputs": [],
   "source": [
    "def simpson_core(f,x,h):\n",
    "    return h*(f(x) + 4*f(x+h) + f(x+2*h))/3"
   ]
  },
  {
   "cell_type": "code",
   "execution_count": null,
   "id": "67b17485",
   "metadata": {},
   "outputs": [],
   "source": [
    "def simpson_method(f,a,b,N):\n",
    "    #f is the function to integrate\n",
    "    #a is lower limit\n",
    "    #b is upper limit\n",
    "    #N is the number of intervals\n",
    "    #note the number of chunks will be N-1\n",
    "    #so if N is odd, then we don't need to adjust last segment\n",
    "    \n",
    "    #define x values to perform\n",
    "    x = np.linspace(a,b,N)\n",
    "    h = x[1] - x[0]\n",
    "    #define value of integral\n",
    "    Fint = 0.0\n",
    "    \n",
    "    #perform integral\n",
    "    for i in range(0, len(x)-2,2):\n",
    "        Fint += simpson_core(f,x[-2],0.5*h)\n",
    "        #if N is even then apply Simpsons rule over last interval\n",
    "    if (N % 2) == 0:\n",
    "         Fint += simpson_core(f,x[-2],0.5*h)\n",
    "            \n",
    "    return Fint"
   ]
  },
  {
   "cell_type": "code",
   "execution_count": null,
   "id": "7d35e22e",
   "metadata": {},
   "outputs": [],
   "source": [
    "def romberg_core(f,a,b,i):\n",
    "    #need the difference between a and b\n",
    "    h = b - a\n",
    "    \n",
    "    # interval between function at refine level i\n",
    "    dh = h/2.**(i)\n",
    "    \n",
    "    #need cofactor\n",
    "    K = h/2.**(i+1)\n",
    "        \n",
    "    #function evaluation\n",
    "    M = 0.0\n",
    "    for j in range(2**i):\n",
    "        M += f(a + 0.5*dh + j*dh) \n",
    "    return K*M"
   ]
  },
  {
   "cell_type": "code",
   "execution_count": null,
   "id": "dcf3362d",
   "metadata": {},
   "outputs": [],
   "source": [
    "def romberg_method(f,a,b,tol):\n",
    "    #define iteration variable and max number of iterations\n",
    "    i = 0\n",
    "    imax = 100\n",
    "    \n",
    "    #define large error estamite\n",
    "    delta = 100.0*np.fabs(tol)\n",
    "    \n",
    "    #set an array of integral answers\n",
    "    I = np.zeros(imax,dtype = float)\n",
    "    \n",
    "    #get zeroth romberg integration\n",
    "    I[0] = 0.5*(b-a)*(f(a) +f(b))\n",
    "    \n",
    "    #increase iteration by 1\n",
    "    i += 1\n",
    "    \n",
    "    while delta > tol:\n",
    "        I[i] = 0.5*I[i-1] + romberg_core(f,a,b,i)\n",
    "        \n",
    "        #compute new fractional error estamite\n",
    "        delta = np.fabs((I[i]-I[i-1])/I[i])\n",
    "        print(i,I[i],I[i-1],delta)\n",
    "        \n",
    "        if delta > tol:\n",
    "            \n",
    "            #iterate\n",
    "            i += 1\n",
    "            \n",
    "            #if max num of iterations reached\n",
    "            if i > imax:\n",
    "                print(\"Max iterations reached\")\n",
    "                raise StopIteration(\"Stopping iterations after \", i)\n",
    "    return I[i]"
   ]
  },
  {
   "cell_type": "code",
   "execution_count": null,
   "id": "a79c7527",
   "metadata": {},
   "outputs": [],
   "source": [
    "Answer = func_integral(np.pi)-func_integral(0)\n",
    "print(\"True Answer\")\n",
    "print(Answer)\n",
    "print(\"Trapezoid Method\")\n",
    "print(trapezoid_method(func, 0,np.pi,1300))\n",
    "print(\"Simpson's Method\")\n",
    "print(simpson_method(func,0,np.pi,10))\n",
    "print(\"Romberg Method\")\n",
    "tolerance = 1.0e-4\n",
    "RI = romberg_method(func,0,1,tolerance)\n",
    "print(RI,(RI-Answer)/Answer,tolerance)"
   ]
  },
  {
   "cell_type": "code",
   "execution_count": null,
   "id": "4f0c7e88",
   "metadata": {},
   "outputs": [],
   "source": []
  }
 ],
 "metadata": {
  "kernelspec": {
   "display_name": "Python 3 (ipykernel)",
   "language": "python",
   "name": "python3"
  },
  "language_info": {
   "codemirror_mode": {
    "name": "ipython",
    "version": 3
   },
   "file_extension": ".py",
   "mimetype": "text/x-python",
   "name": "python",
   "nbconvert_exporter": "python",
   "pygments_lexer": "ipython3",
   "version": "3.9.7"
  }
 },
 "nbformat": 4,
 "nbformat_minor": 5
}
