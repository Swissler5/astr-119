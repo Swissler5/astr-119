{
 "cells": [
  {
   "cell_type": "code",
   "execution_count": null,
   "id": "c74aeb06",
   "metadata": {},
   "outputs": [],
   "source": [
    "%matplotlib inline\n",
    "import numpy as np\n",
    "import matplotlib.pyplot as plt"
   ]
  },
  {
   "cell_type": "code",
   "execution_count": null,
   "id": "98d1dea8",
   "metadata": {},
   "outputs": [],
   "source": [
    "x = np.arange(0, 2*np.pi, (2*np.pi)/1000,dtype=float)\n",
    "print(x)"
   ]
  },
  {
   "cell_type": "code",
   "execution_count": null,
   "id": "e678f9c0",
   "metadata": {
    "scrolled": true
   },
   "outputs": [],
   "source": [
    "x = np.linspace(0,2*np.pi,100)\n",
    "\n",
    "u = 5.5*np.cos(2*x) + 5.5\n",
    "v = 0.02*np.exp(x)\n",
    "w = 0.25*(x*x) + 0.1*np.sin(10*x)\n",
    "plt.plot(x,u, label=r'$y = 5.5cos(2x)+5.5$')\n",
    "plt.plot(x,v, label=r'$y = 0.02exp(x)$')\n",
    "plt.plot(x,w, label=r'$y = 0.25(x^2) + 0.1sin(10x)$')\n",
    "\n",
    "plt.xlabel(\"Time in ASTR 119\")\n",
    "plt.ylabel(\"Measures of Awesomeness\")\n",
    "\n",
    "plt.xticks(np.arange(0, 2*np.pi, 1))\n",
    "plt.yticks(np.arange(-1, 10, 1))\n",
    "plt.xlim([0, 2*np.pi])\n",
    "plt.ylim([-1,10])\n",
    "\n",
    "plt.legend(loc=1, framealpha=0.5)\n",
    "plt.show()"
   ]
  }
 ],
 "metadata": {
  "kernelspec": {
   "display_name": "Python 3 (ipykernel)",
   "language": "python",
   "name": "python3"
  },
  "language_info": {
   "codemirror_mode": {
    "name": "ipython",
    "version": 3
   },
   "file_extension": ".py",
   "mimetype": "text/x-python",
   "name": "python",
   "nbconvert_exporter": "python",
   "pygments_lexer": "ipython3",
   "version": "3.9.7"
  }
 },
 "nbformat": 4,
 "nbformat_minor": 5
}
